{
  "cells": [
    {
      "cell_type": "code",
      "execution_count": null,
      "metadata": {
        "id": "CNS8B2eJLaMy"
      },
      "outputs": [],
      "source": [
        "import numpy as np\n",
        "import pandas\n",
        "import itertools\n",
        "\n",
        "\n",
        "class LinearCode:                                                   # 1.3\n",
        "\n",
        "    def __init__(self, mat):\n",
        "        self.mat = mat\n",
        "        self.G = self.rref()\n",
        "        self.G = self.delete_null_rows()\n",
        "        self.X = self.delete_lead_columns(self.lead())\n",
        "        self.H = self.form_H(self.X, self.lead())\n",
        "\n",
        "    def __set(self, m):\n",
        "        self.mat = m\n",
        "\n",
        "    def Ref(self, n):                                                  # 1.3.1\n",
        "        i_st = 0\n",
        "        j = 0\n",
        "        for i in range(n.shape[1]):\n",
        "            j = i\n",
        "            if 1 in n[:, j]:\n",
        "                i_st = np.where(n[:, j] == 1)[0][0]\n",
        "                break\n",
        "        temp = np.copy(n[0, :])\n",
        "        n[0, :] = n[i_st, :]\n",
        "        n[i_st, :] = temp\n",
        "        for i in np.where(n[:, j])[0][1:]:\n",
        "            n[i, :] += n[0, :]\n",
        "            n[i, :] = n[i, :] % 2\n",
        "        if n.shape[0] == 1:\n",
        "            return\n",
        "        t = n[1:, :]\n",
        "        self.Ref(t)\n",
        "        return n\n",
        "\n",
        "\n",
        "    def rref(self):\n",
        "        self.mat = self.Ref(self.mat)\n",
        "        for i in range(1, self.mat.shape[0]):\n",
        "            index = np.where(self.mat[i, :] == 1)[0]\n",
        "            if (index.shape[0] == 0):\n",
        "                return self.mat\n",
        "            else:\n",
        "                index = index[0]\n",
        "            for j in range(0, i):\n",
        "                if self.mat[j, index] == 1:\n",
        "                    self.mat[j, :] += self.mat[i, :]\n",
        "                    self.mat[j, :] = self.mat[j, :] % 2\n",
        "        return self.mat\n",
        "\n",
        "    def delete_null_rows(self):\n",
        "        for i in range(0, self.mat.shape[0]):\n",
        "            if np.where(self.mat[i, :] == 1)[0].shape[0] == 0:\n",
        "                self.mat = np.delete(self.mat, i, axis=0)\n",
        "        return self.mat\n",
        "\n",
        "    def lead(self):\n",
        "        res = np.array([], dtype=int)\n",
        "#        matrix = self.delete_null_rows()\n",
        "        for i in range(0, self.mat.shape[0]):\n",
        "            index = np.where(self.mat[i, :] == 1)[0][0]\n",
        "            res = np.append(res, index)\n",
        "        return res\n",
        "\n",
        "    def delete_lead_columns(self, lead):\n",
        "        matrix = np.copy(self.mat)\n",
        "        for i in range(lead.shape[0]):\n",
        "            matrix = np.delete(matrix, lead[i] - i, axis=1)\n",
        "        return matrix\n",
        "\n",
        "    def form_H(self, temp, lead):\n",
        "        id_matrix = np.eye(temp.shape[1])\n",
        "        H = np.zeros((temp.shape[0] + temp.shape[1], temp.shape[1]), dtype=int)\n",
        "        i_x = 0\n",
        "        i_id = 0\n",
        "        for i in range(H.shape[0]):\n",
        "            if i in lead:\n",
        "                H[i, :] = temp[i_x, :]\n",
        "                i_x += 1\n",
        "            else:\n",
        "                H[i, :] = id_matrix[i_id, :]\n",
        "                i_id += 1\n",
        "        return H\n",
        "\n",
        "    def generate_code_words_1(self):\n",
        "        res = set()\n",
        "        for i in range(1, self.mat.shape[0] + 1):\n",
        "            combinations = list(itertools.combinations(range(self.mat.shape[0]), i))\n",
        "            for comb in combinations:\n",
        "                word = np.zeros(self.mat.shape[1], dtype=int)\n",
        "                for j in comb:\n",
        "                    word += self.mat[j, :]\n",
        "                word %= 2\n",
        "                res.add(tuple(word.tolist()))\n",
        "        return res\n",
        "\n",
        "    def generate_code_words2(self):\n",
        "        res = []\n",
        "        combinations = []\n",
        "        a = self.mat.shape[1]\n",
        "        stuff = [1, 2, 3, 4, 5]\n",
        "        for i in range(1, self.mat.shape[1]):\n",
        "            for subset in itertools.combinations(stuff, i):\n",
        "                combinations.append(subset)\n",
        "\n",
        "        for i in range(len(combinations)):\n",
        "            word = np.zeros(self.mat.shape[0], dtype=int)\n",
        "            for comb in combinations[i]:\n",
        "                word[comb - 1] = 1\n",
        "            res.append(word)\n",
        "        for i in range(len(res)):\n",
        "            res[i] = np.matmul(res[i], self.mat)\n",
        "            res[i] %= 2\n",
        "        return res\n",
        "\n",
        "    def lines(self):                                              # 1.3.2\n",
        "        count = 0\n",
        "        for row in self.mat:\n",
        "            if sum(row) > 0:\n",
        "                count += 1\n",
        "        return count\n",
        "\n",
        "    def columns(self):                                                # 1.3.2\n",
        "        return len(self.mat[0])"
      ]
    },
    {
      "cell_type": "code",
      "execution_count": null,
      "metadata": {
        "colab": {
          "base_uri": "https://localhost:8080/"
        },
        "id": "xoQJFbnoLaM6",
        "outputId": "33167196-c83f-4661-974f-11aaa8ba3ffd"
      },
      "outputs": [
        {
          "output_type": "stream",
          "name": "stdout",
          "text": [
            "print X \n",
            "[[0 1 1 1 1 0]\n",
            " [0 0 1 0 1 1]\n",
            " [0 0 0 1 0 1]\n",
            " [0 0 0 0 1 1]\n",
            " [0 0 0 0 1 1]]\n",
            "print H \n",
            "[[0 1 1 1 1 0]\n",
            " [1 0 0 0 0 0]\n",
            " [0 1 0 0 0 0]\n",
            " [0 0 1 0 1 1]\n",
            " [0 0 0 1 0 1]\n",
            " [0 0 1 0 0 0]\n",
            " [0 0 0 0 1 1]\n",
            " [0 0 0 1 0 0]\n",
            " [0 0 0 0 1 1]\n",
            " [0 0 0 0 1 0]\n",
            " [0 0 0 0 0 1]]\n",
            "[array([0, 0, 0, 0, 0, 0]), array([0, 0, 0, 0, 0, 0]), array([0, 0, 0, 0, 0, 0]), array([0, 0, 0, 0, 0, 0]), array([0, 0, 0, 0, 0, 0]), array([0, 0, 0, 0, 0, 0]), array([0, 0, 0, 0, 0, 0]), array([0, 0, 0, 0, 0, 0]), array([0, 0, 0, 0, 0, 0]), array([0, 0, 0, 0, 0, 0]), array([0, 0, 0, 0, 0, 0]), array([0, 0, 0, 0, 0, 0]), array([0, 0, 0, 0, 0, 0]), array([0, 0, 0, 0, 0, 0]), array([0, 0, 0, 0, 0, 0]), array([0, 0, 0, 0, 0, 0]), array([0, 0, 0, 0, 0, 0]), array([0, 0, 0, 0, 0, 0]), array([0, 0, 0, 0, 0, 0]), array([0, 0, 0, 0, 0, 0]), array([0, 0, 0, 0, 0, 0]), array([0, 0, 0, 0, 0, 0]), array([0, 0, 0, 0, 0, 0]), array([0, 0, 0, 0, 0, 0]), array([0, 0, 0, 0, 0, 0]), array([0, 0, 0, 0, 0, 0]), array([0, 0, 0, 0, 0, 0]), array([0, 0, 0, 0, 0, 0]), array([0, 0, 0, 0, 0, 0]), array([0, 0, 0, 0, 0, 0]), array([0, 0, 0, 0, 0, 0])]\n",
            "Columns 11\n",
            "Lines  5\n"
          ]
        }
      ],
      "source": [
        "    s = np.array([[1, 0, 1, 1, 0, 0, 0, 1, 0, 0, 1],\n",
        "                  [0, 0, 0, 1, 1, 1, 0, 1, 0, 1, 0],\n",
        "                  [0, 0, 0, 0, 1, 0, 0, 1, 0, 0, 1],\n",
        "                  [1, 0, 1, 0, 1, 1, 1, 0, 0, 0, 0],\n",
        "                  [0, 0, 0, 0, 1, 0, 0, 1, 1, 1, 0],\n",
        "                  [1, 0, 1, 1, 1, 0, 0, 0, 0, 0, 0]])\n",
        "\n",
        "    o = LinearCode(s)\n",
        "\n",
        "    m = o.rref()\n",
        "    m = o.delete_null_rows()\n",
        "\n",
        "    X = o.delete_lead_columns(o.lead())\n",
        "    print(\"print X \")\n",
        "    print(X)\n",
        "    H = o.form_H(X, o.lead())\n",
        "    print(\"print H \")\n",
        "    print(H)\n",
        "    o.generate_code_words_1()\n",
        "    res = o.generate_code_words2()\n",
        "\n",
        "    for i in range(len(res)):\n",
        "        res[i] = np.matmul(res[i], H)\n",
        "        res[i] %= 2\n",
        "    print(res)\n",
        "    print(\"Columns\", o.columns())\n",
        "    print(\"Lines \", o.lines())"
      ]
    },
    {
      "cell_type": "code",
      "execution_count": null,
      "metadata": {
        "id": "DhT0ZqZrLaM9"
      },
      "outputs": [],
      "source": [
        "words = o.generate_code_words_1()"
      ]
    },
    {
      "cell_type": "code",
      "execution_count": null,
      "metadata": {
        "colab": {
          "base_uri": "https://localhost:8080/"
        },
        "id": "Pn-wDbRtLaM-",
        "outputId": "45f04e33-e944-442f-e1a3-63a8ed6c1a81"
      },
      "outputs": [
        {
          "output_type": "execute_result",
          "data": {
            "text/plain": [
              "{(0, 0, 0, 0, 0, 0, 0, 0, 1, 1, 1),\n",
              " (0, 0, 0, 0, 0, 0, 1, 0, 0, 1, 1),\n",
              " (0, 0, 0, 0, 0, 0, 1, 0, 1, 0, 0),\n",
              " (0, 0, 0, 0, 1, 0, 0, 1, 0, 0, 1),\n",
              " (0, 0, 0, 0, 1, 0, 0, 1, 1, 1, 0),\n",
              " (0, 0, 0, 0, 1, 0, 1, 1, 0, 1, 0),\n",
              " (0, 0, 0, 0, 1, 0, 1, 1, 1, 0, 1),\n",
              " (0, 0, 0, 1, 0, 1, 0, 0, 0, 1, 1),\n",
              " (0, 0, 0, 1, 0, 1, 0, 0, 1, 0, 0),\n",
              " (0, 0, 0, 1, 0, 1, 1, 0, 0, 0, 0),\n",
              " (0, 0, 0, 1, 0, 1, 1, 0, 1, 1, 1),\n",
              " (0, 0, 0, 1, 1, 1, 0, 1, 0, 1, 0),\n",
              " (0, 0, 0, 1, 1, 1, 0, 1, 1, 0, 1),\n",
              " (0, 0, 0, 1, 1, 1, 1, 1, 0, 0, 1),\n",
              " (0, 0, 0, 1, 1, 1, 1, 1, 1, 1, 0),\n",
              " (1, 0, 1, 0, 0, 1, 0, 1, 0, 1, 0),\n",
              " (1, 0, 1, 0, 0, 1, 0, 1, 1, 0, 1),\n",
              " (1, 0, 1, 0, 0, 1, 1, 1, 0, 0, 1),\n",
              " (1, 0, 1, 0, 0, 1, 1, 1, 1, 1, 0),\n",
              " (1, 0, 1, 0, 1, 1, 0, 0, 0, 1, 1),\n",
              " (1, 0, 1, 0, 1, 1, 0, 0, 1, 0, 0),\n",
              " (1, 0, 1, 0, 1, 1, 1, 0, 0, 0, 0),\n",
              " (1, 0, 1, 0, 1, 1, 1, 0, 1, 1, 1),\n",
              " (1, 0, 1, 1, 0, 0, 0, 1, 0, 0, 1),\n",
              " (1, 0, 1, 1, 0, 0, 0, 1, 1, 1, 0),\n",
              " (1, 0, 1, 1, 0, 0, 1, 1, 0, 1, 0),\n",
              " (1, 0, 1, 1, 0, 0, 1, 1, 1, 0, 1),\n",
              " (1, 0, 1, 1, 1, 0, 0, 0, 0, 0, 0),\n",
              " (1, 0, 1, 1, 1, 0, 0, 0, 1, 1, 1),\n",
              " (1, 0, 1, 1, 1, 0, 1, 0, 0, 1, 1),\n",
              " (1, 0, 1, 1, 1, 0, 1, 0, 1, 0, 0)}"
            ]
          },
          "metadata": {},
          "execution_count": 4
        }
      ],
      "source": [
        "words"
      ]
    },
    {
      "cell_type": "code",
      "execution_count": null,
      "metadata": {
        "id": "aUFvuh3oLaNA"
      },
      "outputs": [],
      "source": [
        "word = np.array([1, 1, 1, 1, 1])"
      ]
    },
    {
      "cell_type": "code",
      "execution_count": null,
      "metadata": {
        "id": "f-bwFKfhLaNB"
      },
      "outputs": [],
      "source": [
        "after_coding = np.matmul(np.transpose(word), m)"
      ]
    },
    {
      "cell_type": "code",
      "execution_count": null,
      "metadata": {
        "id": "q20uT-tCLaNC"
      },
      "outputs": [],
      "source": [
        "after_decoding = np.matmul(after_coding, H) % 2"
      ]
    },
    {
      "cell_type": "code",
      "execution_count": null,
      "metadata": {
        "colab": {
          "base_uri": "https://localhost:8080/"
        },
        "id": "_l3ogGqRLaNC",
        "outputId": "d509a03c-5c4b-4858-ea8d-3fdad0957cad"
      },
      "outputs": [
        {
          "output_type": "execute_result",
          "data": {
            "text/plain": [
              "array([0, 0, 0, 0, 0, 0])"
            ]
          },
          "metadata": {},
          "execution_count": 8
        }
      ],
      "source": [
        "after_decoding"
      ]
    },
    {
      "cell_type": "code",
      "execution_count": null,
      "metadata": {
        "id": "tJCeik_3LaND"
      },
      "outputs": [],
      "source": [
        "after_coding = [0, 0, 0, 0, 0, 0, 0, 0, 1, 1, 0]"
      ]
    },
    {
      "cell_type": "code",
      "execution_count": null,
      "metadata": {
        "id": "Ispx2ISiLaNE"
      },
      "outputs": [],
      "source": [
        "after_decoding = np.matmul(after_coding, H) % 2"
      ]
    },
    {
      "cell_type": "code",
      "execution_count": null,
      "metadata": {
        "colab": {
          "base_uri": "https://localhost:8080/"
        },
        "id": "SmYvuoa2LaNG",
        "outputId": "8206c786-7851-4dbc-a20b-85d62113a555"
      },
      "outputs": [
        {
          "output_type": "execute_result",
          "data": {
            "text/plain": [
              "array([0, 0, 0, 0, 0, 1])"
            ]
          },
          "metadata": {},
          "execution_count": 11
        }
      ],
      "source": [
        "after_decoding"
      ]
    },
    {
      "cell_type": "code",
      "execution_count": null,
      "metadata": {
        "id": "_h8LeRkFLaNH"
      },
      "outputs": [],
      "source": [
        "after_coding = [0, 0, 0, 0, 0, 0, 0, 0, 1, 0, 0]"
      ]
    },
    {
      "cell_type": "code",
      "execution_count": null,
      "metadata": {
        "id": "7Ub4LCWKLaNH"
      },
      "outputs": [],
      "source": [
        "after_decoding = np.matmul(after_coding, H) % 2"
      ]
    },
    {
      "cell_type": "code",
      "execution_count": null,
      "metadata": {
        "colab": {
          "base_uri": "https://localhost:8080/"
        },
        "id": "XTYuJM3qLaNI",
        "outputId": "7bff3be7-ac00-4c94-bdcc-95487c609c05"
      },
      "outputs": [
        {
          "output_type": "execute_result",
          "data": {
            "text/plain": [
              "array([0, 0, 0, 0, 1, 1])"
            ]
          },
          "metadata": {},
          "execution_count": 14
        }
      ],
      "source": [
        "after_decoding"
      ]
    },
    {
      "cell_type": "code",
      "execution_count": null,
      "metadata": {
        "colab": {
          "base_uri": "https://localhost:8080/"
        },
        "id": "7FUEA_ogLaNJ",
        "outputId": "e922cab5-a74b-478f-ce01-f53a6a317b4b"
      },
      "outputs": [
        {
          "output_type": "execute_result",
          "data": {
            "text/plain": [
              "[0, 0, 0, 0, 0, 0, 0, 0, 1, 0, 0]"
            ]
          },
          "metadata": {},
          "execution_count": 15
        }
      ],
      "source": [
        "after_coding"
      ]
    },
    {
      "cell_type": "code",
      "execution_count": null,
      "metadata": {
        "id": "Tm4l40zjLaNK"
      },
      "outputs": [],
      "source": [
        "after_coding = np.array([0, 0, 0, 0, 0, 0, 0, 0, 1, 1, 1]) + np.array([0, 0, 0, 0, 0, 0, 1, 0, 1, 0, 0])"
      ]
    },
    {
      "cell_type": "code",
      "execution_count": null,
      "metadata": {
        "id": "imf8CBG_LaNK"
      },
      "outputs": [],
      "source": [
        "after_decoding = np.matmul(after_coding, H) % 2"
      ]
    },
    {
      "cell_type": "code",
      "execution_count": null,
      "metadata": {
        "id": "ukgBLuHhLaNL",
        "outputId": "b341bad2-33fe-49ce-d173-c667b72a1d50"
      },
      "outputs": [
        {
          "data": {
            "text/plain": [
              "array([0, 0, 0, 0, 0, 0], dtype=int32)"
            ]
          },
          "execution_count": 71,
          "metadata": {},
          "output_type": "execute_result"
        }
      ],
      "source": [
        "after_decoding"
      ]
    },
    {
      "cell_type": "code",
      "execution_count": null,
      "metadata": {
        "id": "1YwpJvi5LaNM",
        "outputId": "a7926696-4a05-448e-a420-960c3fd4c3be"
      },
      "outputs": [
        {
          "name": "stdout",
          "output_type": "stream",
          "text": [
            "[[0 1 1 1 1 0]\n",
            " [1 0 0 0 0 0]\n",
            " [0 1 0 0 0 0]\n",
            " [0 0 1 0 1 1]\n",
            " [0 0 0 1 0 1]\n",
            " [0 0 1 0 0 0]\n",
            " [0 0 0 0 1 1]\n",
            " [0 0 0 1 0 0]\n",
            " [0 0 0 0 1 1]\n",
            " [0 0 0 0 1 0]\n",
            " [0 0 0 0 0 1]]\n"
          ]
        }
      ],
      "source": [
        "print(H)"
      ]
    },
    {
      "cell_type": "code",
      "execution_count": null,
      "metadata": {
        "id": "YNU0HZbLLaNM",
        "outputId": "d9273908-2517-490a-8832-e7a11b952ec0"
      },
      "outputs": [
        {
          "name": "stdout",
          "output_type": "stream",
          "text": [
            "[[1 0 1 0 0 1 0 1 0 1 0]\n",
            " [0 0 0 1 0 1 0 0 0 1 1]\n",
            " [0 0 0 0 1 0 0 1 0 0 1]\n",
            " [0 0 0 0 0 0 1 0 0 1 1]\n",
            " [0 0 0 0 0 0 0 0 1 1 1]]\n"
          ]
        }
      ],
      "source": [
        "print(m)"
      ]
    },
    {
      "cell_type": "code",
      "execution_count": null,
      "metadata": {
        "id": "EGjvB_BgLaNO"
      },
      "outputs": [],
      "source": [
        "word = np.array([1, 1, 1, 1, 1])\n",
        "after_coding = np.matmul(np.transpose(word), o.G) % 2"
      ]
    },
    {
      "cell_type": "code",
      "execution_count": null,
      "metadata": {
        "id": "t2uhDuIuLaNO",
        "outputId": "5988535e-5dd2-4fa6-83bb-cf06fe55dc18"
      },
      "outputs": [
        {
          "data": {
            "text/plain": [
              "array([1, 0, 1, 1, 1, 0, 1, 0, 1, 0, 0], dtype=int32)"
            ]
          },
          "execution_count": 116,
          "metadata": {},
          "output_type": "execute_result"
        }
      ],
      "source": [
        "after_coding"
      ]
    },
    {
      "cell_type": "code",
      "execution_count": null,
      "metadata": {
        "id": "9mtp6_1PLaNP"
      },
      "outputs": [],
      "source": [
        "after_coding += np.array([0, 0, 0, 0, 0, 0, 1, 0, 1, 0, 0])"
      ]
    },
    {
      "cell_type": "code",
      "execution_count": null,
      "metadata": {
        "id": "weJU28kYLaNQ"
      },
      "outputs": [],
      "source": [
        "after_decoding = np.matmul(after_coding, o.H) % 2"
      ]
    },
    {
      "cell_type": "code",
      "execution_count": null,
      "metadata": {
        "id": "ow4kwUv6LaNQ",
        "outputId": "f3594d44-64af-4045-ccae-6b89b6b95bd7"
      },
      "outputs": [
        {
          "data": {
            "text/plain": [
              "array([0, 0, 0, 0, 0, 0], dtype=int32)"
            ]
          },
          "execution_count": 120,
          "metadata": {},
          "output_type": "execute_result"
        }
      ],
      "source": [
        "after_decoding"
      ]
    },
    {
      "cell_type": "code",
      "execution_count": null,
      "metadata": {
        "id": "KKPk43gbLaNR",
        "outputId": "060e19a0-2a15-466a-e47d-cb4f488580de"
      },
      "outputs": [
        {
          "data": {
            "text/plain": [
              "array([0, 0, 0, 0, 0, 1], dtype=int32)"
            ]
          },
          "execution_count": 122,
          "metadata": {},
          "output_type": "execute_result"
        }
      ],
      "source": [
        "e = np.array([0, 0, 0, 0, 0, 0, 0, 0, 0, 0, 1])\n",
        "np.matmul(e, o.H) % 2"
      ]
    },
    {
      "cell_type": "code",
      "execution_count": null,
      "metadata": {
        "id": "r_LJ5LhRLaNR"
      },
      "outputs": [],
      "source": []
    }
  ],
  "metadata": {
    "kernelspec": {
      "display_name": "Python 3",
      "language": "python",
      "name": "python3"
    },
    "language_info": {
      "codemirror_mode": {
        "name": "ipython",
        "version": 3
      },
      "file_extension": ".py",
      "mimetype": "text/x-python",
      "name": "python",
      "nbconvert_exporter": "python",
      "pygments_lexer": "ipython3",
      "version": "3.8.3"
    },
    "colab": {
      "provenance": []
    }
  },
  "nbformat": 4,
  "nbformat_minor": 0
}